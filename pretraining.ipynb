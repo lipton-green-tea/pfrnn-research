{
 "cells": [
  {
   "cell_type": "code",
   "execution_count": 1,
   "metadata": {},
   "outputs": [],
   "source": [
    "import numpy as np\n",
    "from keras import Sequential\n",
    "from keras.layers import Dense, Dropout"
   ]
  },
  {
   "attachments": {},
   "cell_type": "markdown",
   "metadata": {},
   "source": [
    "Pretraining the trans function for a garch(2,1) model"
   ]
  },
  {
   "cell_type": "code",
   "execution_count": 45,
   "metadata": {},
   "outputs": [
    {
     "name": "stdout",
     "output_type": "stream",
     "text": [
      "[ 4.97861683e-03  1.54884455e-01  1.24940350e-01  7.50835131e-01\n",
      "  1.99980894e-02  7.63748711e-05 -2.50800646e-05]\n",
      "[0.0028861  0.07228504 0.07229742 0.1444811  0.01155304 0.02310782\n",
      " 0.02304983]\n",
      "[0.00552819]\n",
      "[0.00291117]\n"
     ]
    }
   ],
   "source": [
    "# create dataset\n",
    "s1 = 50\n",
    "s2 = 50\n",
    "s3 = 23\n",
    "const = np.random.uniform(low=0, high=0.01, size=s1 * s2 * s3)\n",
    "q1s = np.tile(np.linspace(0.03, 0.28, s1), s2 * s3) + np.random.normal(loc=0, scale=0.002, size=s1 * s2 * s3)\n",
    "q2s = np.tile(np.linspace(0, 0.25, s2), s1 * s3) + np.random.normal(loc=0, scale=0.002, size=s1 * s2 * s3)\n",
    "p1s = np.tile(np.linspace(0.5, 1, s3), s1 * s2) + np.random.normal(loc=0, scale=0.002, size=s1 * s2 * s3)\n",
    "q1s = np.random.uniform(low=0.03, high=0.28, size=s1 * s2 * s3)\n",
    "q2s = np.random.uniform(low=0, high=0.25, size=s1 * s2 * s3)\n",
    "p1s = np.random.uniform(low=0.5, high=1, size=s1 * s2 * s3)\n",
    "r1s = np.random.uniform(low=-0.04, high=0.04, size=s1 * s2 * s3)\n",
    "r2s = np.random.uniform(low=-0.04, high=0.04, size=s1 * s2 * s3)\n",
    "cv1s = np.random.uniform(low=0, high=0.04, size=s1 * s2 * s3)\n",
    "xs = np.zeros((s1 * s2 * s3, 7))\n",
    "ys = np.zeros((s1 * s2 * s3, 1))\n",
    "i = 0\n",
    "for q1_i in range(0, s1):\n",
    "    for q2_i in range(0, s2):\n",
    "        for p1_i in range(0, s3):\n",
    "            xs[i][0] = const[i]\n",
    "            xs[i][1] = q1s[i]\n",
    "            xs[i][2] = q2s[i]\n",
    "            xs[i][3] = p1s[i]\n",
    "            xs[i][4] = cv1s[i]\n",
    "            xs[i][5] = r2s[i]\n",
    "            xs[i][6] = r1s[i]\n",
    "            ys[i][0] = const[i] + q1s[i] * (r1s[i] ** 2) + q2s[i] * (r2s[i] ** 2) + p1s[i] * (cv1s[i] ** 2)\n",
    "            i += 1\n",
    "\n",
    "print(xs.mean(axis=0))\n",
    "print(xs.std(axis=0))\n",
    "print(ys.mean(axis=0))\n",
    "print(ys.std(axis=0))\n",
    "\n",
    "xs = (xs - xs.mean(axis=0)) / xs.std(axis=0)\n",
    "ys = (ys - ys.mean(axis=0)) / ys.std(axis=0)"
   ]
  },
  {
   "cell_type": "code",
   "execution_count": 52,
   "metadata": {},
   "outputs": [
    {
     "name": "stdout",
     "output_type": "stream",
     "text": [
      "Epoch 1/20\n",
      "2300/2300 [==============================] - 11s 4ms/step - loss: 0.0284 - accuracy: 0.0000e+00\n",
      "Epoch 2/20\n",
      "2300/2300 [==============================] - 10s 5ms/step - loss: 0.0145 - accuracy: 0.0000e+00\n",
      "Epoch 3/20\n",
      "2300/2300 [==============================] - 11s 5ms/step - loss: 0.0145 - accuracy: 0.0000e+00\n",
      "Epoch 4/20\n",
      "2300/2300 [==============================] - 10s 4ms/step - loss: 0.0148 - accuracy: 0.0000e+00\n",
      "Epoch 5/20\n",
      "2300/2300 [==============================] - 10s 4ms/step - loss: 0.0154 - accuracy: 0.0000e+00\n",
      "Epoch 6/20\n",
      "2300/2300 [==============================] - 10s 4ms/step - loss: 0.0147 - accuracy: 0.0000e+00\n",
      "Epoch 7/20\n",
      "2300/2300 [==============================] - 10s 5ms/step - loss: 0.0150 - accuracy: 0.0000e+00\n",
      "Epoch 8/20\n",
      "2300/2300 [==============================] - 10s 5ms/step - loss: 0.0151 - accuracy: 0.0000e+00\n",
      "Epoch 9/20\n",
      "2300/2300 [==============================] - 10s 5ms/step - loss: 0.0154 - accuracy: 0.0000e+00\n",
      "Epoch 10/20\n",
      "2300/2300 [==============================] - 10s 4ms/step - loss: 0.0145 - accuracy: 0.0000e+00\n",
      "Epoch 11/20\n",
      "2300/2300 [==============================] - 10s 4ms/step - loss: 0.0151 - accuracy: 0.0000e+00\n",
      "Epoch 12/20\n",
      "2300/2300 [==============================] - 11s 5ms/step - loss: 0.0149 - accuracy: 0.0000e+00\n",
      "Epoch 13/20\n",
      "2300/2300 [==============================] - 11s 5ms/step - loss: 0.0150 - accuracy: 0.0000e+00\n",
      "Epoch 14/20\n",
      "2300/2300 [==============================] - 11s 5ms/step - loss: 0.0150 - accuracy: 0.0000e+00\n",
      "Epoch 15/20\n",
      "2300/2300 [==============================] - 10s 4ms/step - loss: 0.0146 - accuracy: 0.0000e+00\n",
      "Epoch 16/20\n",
      "2300/2300 [==============================] - 11s 5ms/step - loss: 0.0152 - accuracy: 0.0000e+00\n",
      "Epoch 17/20\n",
      "2300/2300 [==============================] - 12s 5ms/step - loss: 0.0149 - accuracy: 0.0000e+00\n",
      "Epoch 18/20\n",
      "2300/2300 [==============================] - 11s 5ms/step - loss: 0.0148 - accuracy: 0.0000e+00\n",
      "Epoch 19/20\n",
      "2300/2300 [==============================] - 11s 5ms/step - loss: 0.0148 - accuracy: 0.0000e+00\n",
      "Epoch 20/20\n",
      "2300/2300 [==============================] - 11s 5ms/step - loss: 0.0151 - accuracy: 0.0000e+00\n"
     ]
    },
    {
     "data": {
      "text/plain": [
       "<keras.callbacks.History at 0x2965d675240>"
      ]
     },
     "execution_count": 52,
     "metadata": {},
     "output_type": "execute_result"
    }
   ],
   "source": [
    "model = Sequential()\n",
    "l1_size = 400\n",
    "l2_size = 400\n",
    "l3_size = 400\n",
    "l4_size = 200\n",
    "# 4 parameters, 1 prev vols, 2 prev innovations = 7 inputs\n",
    "model.add(Dense(l1_size, input_shape=(7,), activation='tanh'))\n",
    "model.add(Dropout(.2, input_shape=(l1_size,)))\n",
    "model.add(Dense(l2_size, input_shape=(l1_size,), activation='tanh'))\n",
    "model.add(Dropout(.2, input_shape=(l2_size,)))\n",
    "model.add(Dense(l3_size, input_shape=(l2_size,), activation='tanh'))\n",
    "model.add(Dropout(.2, input_shape=(l3_size,)))\n",
    "model.add(Dense(l4_size, input_shape=(l3_size,), activation='tanh'))\n",
    "model.add(Dropout(.2, input_shape=(l4_size,)))\n",
    "model.add(Dense(1, input_shape=(l4_size,), activation='linear'))\n",
    "\n",
    "model.compile(loss='mse', optimizer='adam', metrics=['accuracy'])\n",
    "\n",
    "model.fit(xs, ys, epochs=20, batch_size=25)"
   ]
  },
  {
   "cell_type": "code",
   "execution_count": 53,
   "metadata": {},
   "outputs": [],
   "source": [
    "dropout_layers = 0\n",
    "for layer in range(0, 5):\n",
    "    np.save(f\"./pretrained_weights/garch_trans_layer_{layer}_weights\", model.layers[layer + dropout_layers].get_weights()[0])\n",
    "    np.save(f\"./pretrained_weights/garch_trans_layer_{layer}_biases\", model.layers[layer + dropout_layers].get_weights()[1])\n",
    "    dropout_layers += 1"
   ]
  },
  {
   "cell_type": "code",
   "execution_count": 54,
   "metadata": {},
   "outputs": [
    {
     "name": "stdout",
     "output_type": "stream",
     "text": [
      "1797/1797 [==============================] - 2s 1ms/step\n",
      "5.378273904164622e-08\n"
     ]
    }
   ],
   "source": [
    "import matplotlib.pyplot as plt\n",
    "\n",
    "\n",
    "ys_pred = model.predict(xs)\n",
    "ys_pred = ys_pred * 0.00291117 + 0.00552819\n",
    "ysun = ys * 0.00291117 + 0.00552819\n",
    "print(((ys_pred - ysun)**2).mean())\n",
    "\n"
   ]
  }
 ],
 "metadata": {
  "kernelspec": {
   "display_name": "venv",
   "language": "python",
   "name": "python3"
  },
  "language_info": {
   "codemirror_mode": {
    "name": "ipython",
    "version": 3
   },
   "file_extension": ".py",
   "mimetype": "text/x-python",
   "name": "python",
   "nbconvert_exporter": "python",
   "pygments_lexer": "ipython3",
   "version": "3.10.9"
  },
  "orig_nbformat": 4
 },
 "nbformat": 4,
 "nbformat_minor": 2
}

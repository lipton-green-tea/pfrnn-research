{
 "cells": [
  {
   "cell_type": "code",
   "execution_count": 3,
   "metadata": {},
   "outputs": [],
   "source": [
    "import numpy as np\n",
    "from keras import Sequential\n",
    "from keras.layers import Dense, Dropout"
   ]
  },
  {
   "attachments": {},
   "cell_type": "markdown",
   "metadata": {},
   "source": [
    "Pretraining the trans function for a garch(2,1) model"
   ]
  },
  {
   "cell_type": "code",
   "execution_count": 16,
   "metadata": {},
   "outputs": [],
   "source": [
    "# create dataset\n",
    "s1 = 50\n",
    "s2 = 50\n",
    "s3 = 23\n",
    "const = np.random.normal(loc=0, scale=0.001, size=s1 * s2 * s3)\n",
    "q1s = np.tile(np.linspace(0.03, 0.20, s1), s2 * s3) + np.random.normal(loc=0, scale=0.002, size=s1 * s2 * s3)\n",
    "q2s = np.tile(np.linspace(0.64, 0.96, s2), s1 * s3) + np.random.normal(loc=0, scale=0.002, size=s1 * s2 * s3)\n",
    "p1s = np.tile(np.linspace(0.5, 1, s3), s1 * s2) + np.random.normal(loc=0, scale=0.002, size=s1 * s2 * s3)\n",
    "r1s = np.random.normal(loc=0, scale=0.03, size=s1 * s2 * s3)\n",
    "r2s = np.random.normal(loc=0, scale=0.03, size=s1 * s2 * s3)\n",
    "cv1s = np.random.normal(loc=0, scale=0.03, size=s1 * s2 * s3)\n",
    "xs = np.zeros((s1 * s2 * s3, 7))\n",
    "ys = np.zeros((s1 * s2 * s3, 1))\n",
    "i = 0\n",
    "for q1_i in range(0, s1):\n",
    "    for q2_i in range(0, s2):\n",
    "        for p1_i in range(0, s3):\n",
    "            xs[i][0] = const[i]\n",
    "            xs[i][1] = q1s[i]\n",
    "            xs[i][2] = q2s[i]\n",
    "            xs[i][3] = p1s[i]\n",
    "            xs[i][4] = cv1s[i]\n",
    "            xs[i][5] = r2s[i]\n",
    "            xs[i][6] = r1s[i]\n",
    "            ys[i][0] = const[i] + q1s[i] * r1s[i] ** 2 + q2s[i] * r2s[i] ** 2 + p1s[i] * cv1s[i] ** 2\n",
    "            i += 1"
   ]
  },
  {
   "cell_type": "code",
   "execution_count": 17,
   "metadata": {},
   "outputs": [
    {
     "name": "stdout",
     "output_type": "stream",
     "text": [
      "Epoch 1/8\n",
      "2300/2300 [==============================] - 3s 1ms/step - loss: 0.0194 - accuracy: 0.0000e+00\n",
      "Epoch 2/8\n",
      "2300/2300 [==============================] - 3s 1ms/step - loss: 2.5906e-04 - accuracy: 0.0000e+00\n",
      "Epoch 3/8\n",
      "2300/2300 [==============================] - 3s 1ms/step - loss: 5.1354e-05 - accuracy: 0.0000e+00\n",
      "Epoch 4/8\n",
      "2300/2300 [==============================] - 3s 1ms/step - loss: 1.4699e-05 - accuracy: 0.0000e+00\n",
      "Epoch 5/8\n",
      "2300/2300 [==============================] - 3s 1ms/step - loss: 6.4511e-06 - accuracy: 0.0000e+00\n",
      "Epoch 6/8\n",
      "2300/2300 [==============================] - 3s 1ms/step - loss: 4.1478e-06 - accuracy: 0.0000e+00\n",
      "Epoch 7/8\n",
      "2300/2300 [==============================] - 3s 1ms/step - loss: 3.4945e-06 - accuracy: 0.0000e+00\n",
      "Epoch 8/8\n",
      "2300/2300 [==============================] - 3s 1ms/step - loss: 3.2850e-06 - accuracy: 0.0000e+00\n"
     ]
    },
    {
     "data": {
      "text/plain": [
       "<keras.callbacks.History at 0x181a5d95420>"
      ]
     },
     "execution_count": 17,
     "metadata": {},
     "output_type": "execute_result"
    }
   ],
   "source": [
    "model = Sequential()\n",
    "# 4 parameters, 1 prev vols, 2 prev innovations = 7 inputs\n",
    "model.add(Dense(60, input_shape=(7,), activation='sigmoid'))\n",
    "model.add(Dropout(.2, input_shape=(60,)))\n",
    "model.add(Dense(30, input_shape=(60,), activation='sigmoid'))\n",
    "model.add(Dropout(.2, input_shape=(30,)))\n",
    "model.add(Dense(1, input_shape=(30,), activation='linear'))\n",
    "\n",
    "model.compile(loss='mse', optimizer='adam', metrics=['accuracy'])\n",
    "\n",
    "model.fit(xs, ys, epochs=8, batch_size=25)"
   ]
  },
  {
   "cell_type": "code",
   "execution_count": 18,
   "metadata": {},
   "outputs": [],
   "source": [
    "dropout_layers = 0\n",
    "for layer in range(0, 3):\n",
    "    np.save(f\"./pretrained_weights/garch_trans_layer_{layer}_weights\", model.layers[layer + dropout_layers].get_weights()[0])\n",
    "    np.save(f\"./pretrained_weights/garch_trans_layer_{layer}_biases\", model.layers[layer + dropout_layers].get_weights()[1])\n",
    "    dropout_layers += 1"
   ]
  },
  {
   "cell_type": "code",
   "execution_count": 15,
   "metadata": {},
   "outputs": [
    {
     "data": {
      "text/plain": [
       "array([1], dtype=int64)"
      ]
     },
     "execution_count": 15,
     "metadata": {},
     "output_type": "execute_result"
    }
   ],
   "source": [
    "import torch\n",
    "import numpy as np\n",
    "\n",
    "t1 = torch.Tensor([[[1,2],[3,4]]])\n",
    "t2 = torch.Tensor([[[10],[11]]])\n",
    "torch.concat((t1, t2), dim=2)\n",
    "\n",
    "t2.tile((10,1,1))\n",
    "\n",
    "arr1 = np.array([[[1],[2],[3]], [[1],[2],[4]]])\n",
    "\n",
    "max_values = arr1.max(axis=1).reshape((len(arr1), ))\n",
    "\n",
    "threshold = np.percentile(max_values, 95)\n",
    "\n",
    "indices = np.where(max_values > threshold)[0]\n",
    "indices"
   ]
  }
 ],
 "metadata": {
  "kernelspec": {
   "display_name": "venv",
   "language": "python",
   "name": "python3"
  },
  "language_info": {
   "codemirror_mode": {
    "name": "ipython",
    "version": 3
   },
   "file_extension": ".py",
   "mimetype": "text/x-python",
   "name": "python",
   "nbconvert_exporter": "python",
   "pygments_lexer": "ipython3",
   "version": "3.10.9"
  },
  "orig_nbformat": 4
 },
 "nbformat": 4,
 "nbformat_minor": 2
}
